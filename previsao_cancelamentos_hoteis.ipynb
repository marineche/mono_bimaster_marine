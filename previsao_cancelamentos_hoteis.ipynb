{
 "cells": [
  {
   "cell_type": "markdown",
   "metadata": {
    "id": "abjTv1pBM6xW"
   },
   "source": [
    "**TCC BI 2019_4**\n",
    "\n",
    "# **Previsão de cancelamentos em hotéis usando modelos de classificação.**<br>\n",
    "\n",
    "Exploração dos dados e utilização de modelos de Machine Learning Supervisionados de Classificação, o evento é o cancelamento ou não da reserva.<br>\n",
    "\n",
    "Marine Patricia Chevallier"
   ]
  },
  {
   "cell_type": "markdown",
   "metadata": {
    "id": "HdqgDctMQqeo"
   },
   "source": [
    "## Uma breve introdução sobre a base de dados"
   ]
  },
  {
   "cell_type": "markdown",
   "metadata": {
    "id": "0Qt8FgM3Qqeo"
   },
   "source": [
    "Nesse desafio, suponho que a variável **is_canceled** = 1 quer dizer que a reserva foi cancelada e que **is_canceled** = 0 que não foi cancelada.\n",
    "\n"
   ]
  },
  {
   "cell_type": "markdown",
   "metadata": {
    "id": "qShzMVpdQqeo"
   },
   "source": [
    "# Importando as bibliotecas necessárias"
   ]
  },
  {
   "cell_type": "code",
   "execution_count": 2,
   "metadata": {
    "executionInfo": {
     "elapsed": 1842,
     "status": "ok",
     "timestamp": 1656302632107,
     "user": {
      "displayName": "Marine Chevallier",
      "userId": "04126435341853057761"
     },
     "user_tz": 180
    },
    "id": "fLUnfO3TQqep"
   },
   "outputs": [],
   "source": [
    "# !pip install missingno\n",
    "import numpy as np\n",
    "import pandas as pd\n",
    "import seaborn as sns\n",
    "import matplotlib.pyplot as plt\n",
    "import missingno as msno\n",
    "\n",
    "\n",
    "from sklearn.preprocessing import LabelEncoder, StandardScaler, MinMaxScaler\n",
    "from sklearn.model_selection import train_test_split, cross_val_score, GridSearchCV\n",
    "from sklearn.feature_selection import SelectFromModel, SelectPercentile\n",
    "from sklearn.metrics import f1_score, confusion_matrix, accuracy_score, classification_report\n",
    "\n",
    "from sklearn.linear_model import LogisticRegression, RidgeClassifier, SGDClassifier\n",
    "from sklearn.svm import LinearSVC\n",
    "from sklearn.tree import DecisionTreeClassifier\n",
    "from sklearn.ensemble import RandomForestClassifier, GradientBoostingClassifier, AdaBoostClassifier\n",
    "from sklearn.neighbors import KNeighborsClassifier\n",
    "from sklearn.neural_network import MLPClassifier\n",
    "from sklearn.naive_bayes import GaussianNB\n",
    "import plotly.express as px\n",
    "\n",
    "\n",
    "pd.set_option('display.max_columns', None)\n",
    "pd.set_option('display.max_rows', None)"
   ]
  },
  {
   "cell_type": "markdown",
   "metadata": {
    "id": "b7Hp4w22Qqep"
   },
   "source": [
    "# Importando a base de dados"
   ]
  },
  {
   "cell_type": "code",
   "execution_count": 3,
   "metadata": {
    "executionInfo": {
     "elapsed": 455,
     "status": "ok",
     "timestamp": 1656302632559,
     "user": {
      "displayName": "Marine Chevallier",
      "userId": "04126435341853057761"
     },
     "user_tz": 180
    },
    "id": "X9hs1VrGQqeq"
   },
   "outputs": [],
   "source": [
    "df = pd.read_csv('/content/hotel_bookings.csv')"
   ]
  },
  {
   "cell_type": "markdown",
   "metadata": {
    "id": "yi3kgURxQqeq"
   },
   "source": [
    "# Pré-processamento dos Dados"
   ]
  },
  {
   "cell_type": "code",
   "execution_count": 4,
   "metadata": {
    "colab": {
     "base_uri": "https://localhost:8080/"
    },
    "executionInfo": {
     "elapsed": 10,
     "status": "ok",
     "timestamp": 1656302632560,
     "user": {
      "displayName": "Marine Chevallier",
      "userId": "04126435341853057761"
     },
     "user_tz": 180
    },
    "id": "gwofhdq8Qqeq",
    "outputId": "a8fb1678-0e52-48d2-976d-eac986b873ba"
   },
   "outputs": [
    {
     "data": {
      "text/plain": [
       "(119390, 32)"
      ]
     },
     "execution_count": 4,
     "metadata": {},
     "output_type": "execute_result"
    }
   ],
   "source": [
    "df.shape"
   ]
  },
  {
   "cell_type": "code",
   "execution_count": 5,
   "metadata": {
    "colab": {
     "base_uri": "https://localhost:8080/"
    },
    "executionInfo": {
     "elapsed": 4,
     "status": "ok",
     "timestamp": 1656302632560,
     "user": {
      "displayName": "Marine Chevallier",
      "userId": "04126435341853057761"
     },
     "user_tz": 180
    },
    "id": "I7nwsFtGQqer",
    "outputId": "19c30c33-d81e-426b-b85e-afd495450422"
   },
   "outputs": [
    {
     "data": {
      "text/plain": [
       "True"
      ]
     },
     "execution_count": 5,
     "metadata": {},
     "output_type": "execute_result"
    }
   ],
   "source": [
    "df.duplicated().any()"
   ]
  },
  {
   "cell_type": "code",
   "execution_count": 6,
   "metadata": {
    "executionInfo": {
     "elapsed": 64594,
     "status": "ok",
     "timestamp": 1656302697152,
     "user": {
      "displayName": "Marine Chevallier",
      "userId": "04126435341853057761"
     },
     "user_tz": 180
    },
    "id": "nbugA2kRQqer"
   },
   "outputs": [],
   "source": [
    "# removendo as reservas duplicadas\n",
    "df.drop_duplicates(inplace=False)"
   ]
  },
  {
   "cell_type": "code",
   "execution_count": null,
   "metadata": {
    "id": "CIhAZHRYQqes"
   },
   "outputs": [],
   "source": [
    "# porcentagem de linhas vazias por coluna\n",
    "null = 100 * (df.isna().sum()/ df.shape[0])\n",
    "null"
   ]
  },
  {
   "cell_type": "markdown",
   "metadata": {
    "id": "UEOY_NSHQqes"
   },
   "source": [
    "Variáveis com valores faltantes:\n",
    "\n",
    "1. num_children (pouco)\n",
    "2. country\n",
    "3. id_travel_agency_booking\n",
    "4. id_person_booking\n",
    "\n",
    "Vemos que a variável **id_person_booking** tem mais de 94% de valores nulos, o que implica na exclusão dessa coluna."
   ]
  },
  {
   "cell_type": "code",
   "execution_count": null,
   "metadata": {
    "id": "OpNNrDbIQqes"
   },
   "outputs": [],
   "source": [
    "df.drop(columns='id_person_booking', axis=1, inplace=True)"
   ]
  },
  {
   "cell_type": "code",
   "execution_count": 9,
   "metadata": {
    "colab": {
     "base_uri": "https://localhost:8080/",
     "height": 364
    },
    "executionInfo": {
     "elapsed": 421,
     "status": "ok",
     "timestamp": 1656302709533,
     "user": {
      "displayName": "Marine Chevallier",
      "userId": "04126435341853057761"
     },
     "user_tz": 180
    },
    "id": "zhZf7xRJQqet",
    "outputId": "7383ee81-7989-4228-f4d6-14c1c298ccd7"
   },
   "outputs": [
    {
     "data": {
      "text/html": [
       "\n",
       "  <div id=\"df-558452a1-b779-4c2b-bfbb-678124ea8e1d\">\n",
       "    <div class=\"colab-df-container\">\n",
       "      <div>\n",
       "<style scoped>\n",
       "    .dataframe tbody tr th:only-of-type {\n",
       "        vertical-align: middle;\n",
       "    }\n",
       "\n",
       "    .dataframe tbody tr th {\n",
       "        vertical-align: top;\n",
       "    }\n",
       "\n",
       "    .dataframe thead th {\n",
       "        text-align: right;\n",
       "    }\n",
       "</style>\n",
       "<table border=\"1\" class=\"dataframe\">\n",
       "  <thead>\n",
       "    <tr style=\"text-align: right;\">\n",
       "      <th></th>\n",
       "      <th>is_canceled</th>\n",
       "      <th>lead_time</th>\n",
       "      <th>arrival_date_year</th>\n",
       "      <th>arrival_date_week_number</th>\n",
       "      <th>arrival_date_day_of_month</th>\n",
       "      <th>stays_in_weekend_nights</th>\n",
       "      <th>stays_in_week_nights</th>\n",
       "      <th>adults</th>\n",
       "      <th>children</th>\n",
       "      <th>babies</th>\n",
       "      <th>is_repeated_guest</th>\n",
       "      <th>previous_cancellations</th>\n",
       "      <th>previous_bookings_not_canceled</th>\n",
       "      <th>booking_changes</th>\n",
       "      <th>agent</th>\n",
       "      <th>company</th>\n",
       "      <th>days_in_waiting_list</th>\n",
       "      <th>adr</th>\n",
       "      <th>required_car_parking_spaces</th>\n",
       "      <th>total_of_special_requests</th>\n",
       "    </tr>\n",
       "  </thead>\n",
       "  <tbody>\n",
       "    <tr>\n",
       "      <th>count</th>\n",
       "      <td>119390.000000</td>\n",
       "      <td>119390.000000</td>\n",
       "      <td>119390.000000</td>\n",
       "      <td>119390.000000</td>\n",
       "      <td>119390.000000</td>\n",
       "      <td>119390.000000</td>\n",
       "      <td>119390.000000</td>\n",
       "      <td>119390.000000</td>\n",
       "      <td>119386.000000</td>\n",
       "      <td>119390.000000</td>\n",
       "      <td>119390.000000</td>\n",
       "      <td>119390.000000</td>\n",
       "      <td>119390.000000</td>\n",
       "      <td>119390.000000</td>\n",
       "      <td>103050.000000</td>\n",
       "      <td>6797.000000</td>\n",
       "      <td>119390.000000</td>\n",
       "      <td>119390.000000</td>\n",
       "      <td>119390.000000</td>\n",
       "      <td>119390.000000</td>\n",
       "    </tr>\n",
       "    <tr>\n",
       "      <th>mean</th>\n",
       "      <td>0.370416</td>\n",
       "      <td>104.011416</td>\n",
       "      <td>2016.156554</td>\n",
       "      <td>27.165173</td>\n",
       "      <td>15.798241</td>\n",
       "      <td>0.927599</td>\n",
       "      <td>2.500302</td>\n",
       "      <td>1.856403</td>\n",
       "      <td>0.103890</td>\n",
       "      <td>0.007949</td>\n",
       "      <td>0.031912</td>\n",
       "      <td>0.087118</td>\n",
       "      <td>0.137097</td>\n",
       "      <td>0.221124</td>\n",
       "      <td>86.693382</td>\n",
       "      <td>189.266735</td>\n",
       "      <td>2.321149</td>\n",
       "      <td>101.831122</td>\n",
       "      <td>0.062518</td>\n",
       "      <td>0.571363</td>\n",
       "    </tr>\n",
       "    <tr>\n",
       "      <th>std</th>\n",
       "      <td>0.482918</td>\n",
       "      <td>106.863097</td>\n",
       "      <td>0.707476</td>\n",
       "      <td>13.605138</td>\n",
       "      <td>8.780829</td>\n",
       "      <td>0.998613</td>\n",
       "      <td>1.908286</td>\n",
       "      <td>0.579261</td>\n",
       "      <td>0.398561</td>\n",
       "      <td>0.097436</td>\n",
       "      <td>0.175767</td>\n",
       "      <td>0.844336</td>\n",
       "      <td>1.497437</td>\n",
       "      <td>0.652306</td>\n",
       "      <td>110.774548</td>\n",
       "      <td>131.655015</td>\n",
       "      <td>17.594721</td>\n",
       "      <td>50.535790</td>\n",
       "      <td>0.245291</td>\n",
       "      <td>0.792798</td>\n",
       "    </tr>\n",
       "    <tr>\n",
       "      <th>min</th>\n",
       "      <td>0.000000</td>\n",
       "      <td>0.000000</td>\n",
       "      <td>2015.000000</td>\n",
       "      <td>1.000000</td>\n",
       "      <td>1.000000</td>\n",
       "      <td>0.000000</td>\n",
       "      <td>0.000000</td>\n",
       "      <td>0.000000</td>\n",
       "      <td>0.000000</td>\n",
       "      <td>0.000000</td>\n",
       "      <td>0.000000</td>\n",
       "      <td>0.000000</td>\n",
       "      <td>0.000000</td>\n",
       "      <td>0.000000</td>\n",
       "      <td>1.000000</td>\n",
       "      <td>6.000000</td>\n",
       "      <td>0.000000</td>\n",
       "      <td>-6.380000</td>\n",
       "      <td>0.000000</td>\n",
       "      <td>0.000000</td>\n",
       "    </tr>\n",
       "    <tr>\n",
       "      <th>25%</th>\n",
       "      <td>0.000000</td>\n",
       "      <td>18.000000</td>\n",
       "      <td>2016.000000</td>\n",
       "      <td>16.000000</td>\n",
       "      <td>8.000000</td>\n",
       "      <td>0.000000</td>\n",
       "      <td>1.000000</td>\n",
       "      <td>2.000000</td>\n",
       "      <td>0.000000</td>\n",
       "      <td>0.000000</td>\n",
       "      <td>0.000000</td>\n",
       "      <td>0.000000</td>\n",
       "      <td>0.000000</td>\n",
       "      <td>0.000000</td>\n",
       "      <td>9.000000</td>\n",
       "      <td>62.000000</td>\n",
       "      <td>0.000000</td>\n",
       "      <td>69.290000</td>\n",
       "      <td>0.000000</td>\n",
       "      <td>0.000000</td>\n",
       "    </tr>\n",
       "    <tr>\n",
       "      <th>50%</th>\n",
       "      <td>0.000000</td>\n",
       "      <td>69.000000</td>\n",
       "      <td>2016.000000</td>\n",
       "      <td>28.000000</td>\n",
       "      <td>16.000000</td>\n",
       "      <td>1.000000</td>\n",
       "      <td>2.000000</td>\n",
       "      <td>2.000000</td>\n",
       "      <td>0.000000</td>\n",
       "      <td>0.000000</td>\n",
       "      <td>0.000000</td>\n",
       "      <td>0.000000</td>\n",
       "      <td>0.000000</td>\n",
       "      <td>0.000000</td>\n",
       "      <td>14.000000</td>\n",
       "      <td>179.000000</td>\n",
       "      <td>0.000000</td>\n",
       "      <td>94.575000</td>\n",
       "      <td>0.000000</td>\n",
       "      <td>0.000000</td>\n",
       "    </tr>\n",
       "    <tr>\n",
       "      <th>75%</th>\n",
       "      <td>1.000000</td>\n",
       "      <td>160.000000</td>\n",
       "      <td>2017.000000</td>\n",
       "      <td>38.000000</td>\n",
       "      <td>23.000000</td>\n",
       "      <td>2.000000</td>\n",
       "      <td>3.000000</td>\n",
       "      <td>2.000000</td>\n",
       "      <td>0.000000</td>\n",
       "      <td>0.000000</td>\n",
       "      <td>0.000000</td>\n",
       "      <td>0.000000</td>\n",
       "      <td>0.000000</td>\n",
       "      <td>0.000000</td>\n",
       "      <td>229.000000</td>\n",
       "      <td>270.000000</td>\n",
       "      <td>0.000000</td>\n",
       "      <td>126.000000</td>\n",
       "      <td>0.000000</td>\n",
       "      <td>1.000000</td>\n",
       "    </tr>\n",
       "    <tr>\n",
       "      <th>max</th>\n",
       "      <td>1.000000</td>\n",
       "      <td>737.000000</td>\n",
       "      <td>2017.000000</td>\n",
       "      <td>53.000000</td>\n",
       "      <td>31.000000</td>\n",
       "      <td>19.000000</td>\n",
       "      <td>50.000000</td>\n",
       "      <td>55.000000</td>\n",
       "      <td>10.000000</td>\n",
       "      <td>10.000000</td>\n",
       "      <td>1.000000</td>\n",
       "      <td>26.000000</td>\n",
       "      <td>72.000000</td>\n",
       "      <td>21.000000</td>\n",
       "      <td>535.000000</td>\n",
       "      <td>543.000000</td>\n",
       "      <td>391.000000</td>\n",
       "      <td>5400.000000</td>\n",
       "      <td>8.000000</td>\n",
       "      <td>5.000000</td>\n",
       "    </tr>\n",
       "  </tbody>\n",
       "</table>\n",
       "</div>\n",
       "      <button class=\"colab-df-convert\" onclick=\"convertToInteractive('df-558452a1-b779-4c2b-bfbb-678124ea8e1d')\"\n",
       "              title=\"Convert this dataframe to an interactive table.\"\n",
       "              style=\"display:none;\">\n",
       "        \n",
       "  <svg xmlns=\"http://www.w3.org/2000/svg\" height=\"24px\"viewBox=\"0 0 24 24\"\n",
       "       width=\"24px\">\n",
       "    <path d=\"M0 0h24v24H0V0z\" fill=\"none\"/>\n",
       "    <path d=\"M18.56 5.44l.94 2.06.94-2.06 2.06-.94-2.06-.94-.94-2.06-.94 2.06-2.06.94zm-11 1L8.5 8.5l.94-2.06 2.06-.94-2.06-.94L8.5 2.5l-.94 2.06-2.06.94zm10 10l.94 2.06.94-2.06 2.06-.94-2.06-.94-.94-2.06-.94 2.06-2.06.94z\"/><path d=\"M17.41 7.96l-1.37-1.37c-.4-.4-.92-.59-1.43-.59-.52 0-1.04.2-1.43.59L10.3 9.45l-7.72 7.72c-.78.78-.78 2.05 0 2.83L4 21.41c.39.39.9.59 1.41.59.51 0 1.02-.2 1.41-.59l7.78-7.78 2.81-2.81c.8-.78.8-2.07 0-2.86zM5.41 20L4 18.59l7.72-7.72 1.47 1.35L5.41 20z\"/>\n",
       "  </svg>\n",
       "      </button>\n",
       "      \n",
       "  <style>\n",
       "    .colab-df-container {\n",
       "      display:flex;\n",
       "      flex-wrap:wrap;\n",
       "      gap: 12px;\n",
       "    }\n",
       "\n",
       "    .colab-df-convert {\n",
       "      background-color: #E8F0FE;\n",
       "      border: none;\n",
       "      border-radius: 50%;\n",
       "      cursor: pointer;\n",
       "      display: none;\n",
       "      fill: #1967D2;\n",
       "      height: 32px;\n",
       "      padding: 0 0 0 0;\n",
       "      width: 32px;\n",
       "    }\n",
       "\n",
       "    .colab-df-convert:hover {\n",
       "      background-color: #E2EBFA;\n",
       "      box-shadow: 0px 1px 2px rgba(60, 64, 67, 0.3), 0px 1px 3px 1px rgba(60, 64, 67, 0.15);\n",
       "      fill: #174EA6;\n",
       "    }\n",
       "\n",
       "    [theme=dark] .colab-df-convert {\n",
       "      background-color: #3B4455;\n",
       "      fill: #D2E3FC;\n",
       "    }\n",
       "\n",
       "    [theme=dark] .colab-df-convert:hover {\n",
       "      background-color: #434B5C;\n",
       "      box-shadow: 0px 1px 3px 1px rgba(0, 0, 0, 0.15);\n",
       "      filter: drop-shadow(0px 1px 2px rgba(0, 0, 0, 0.3));\n",
       "      fill: #FFFFFF;\n",
       "    }\n",
       "  </style>\n",
       "\n",
       "      <script>\n",
       "        const buttonEl =\n",
       "          document.querySelector('#df-558452a1-b779-4c2b-bfbb-678124ea8e1d button.colab-df-convert');\n",
       "        buttonEl.style.display =\n",
       "          google.colab.kernel.accessAllowed ? 'block' : 'none';\n",
       "\n",
       "        async function convertToInteractive(key) {\n",
       "          const element = document.querySelector('#df-558452a1-b779-4c2b-bfbb-678124ea8e1d');\n",
       "          const dataTable =\n",
       "            await google.colab.kernel.invokeFunction('convertToInteractive',\n",
       "                                                     [key], {});\n",
       "          if (!dataTable) return;\n",
       "\n",
       "          const docLinkHtml = 'Like what you see? Visit the ' +\n",
       "            '<a target=\"_blank\" href=https://colab.research.google.com/notebooks/data_table.ipynb>data table notebook</a>'\n",
       "            + ' to learn more about interactive tables.';\n",
       "          element.innerHTML = '';\n",
       "          dataTable['output_type'] = 'display_data';\n",
       "          await google.colab.output.renderOutput(dataTable, element);\n",
       "          const docLink = document.createElement('div');\n",
       "          docLink.innerHTML = docLinkHtml;\n",
       "          element.appendChild(docLink);\n",
       "        }\n",
       "      </script>\n",
       "    </div>\n",
       "  </div>\n",
       "  "
      ],
      "text/plain": [
       "         is_canceled      lead_time  arrival_date_year  \\\n",
       "count  119390.000000  119390.000000      119390.000000   \n",
       "mean        0.370416     104.011416        2016.156554   \n",
       "std         0.482918     106.863097           0.707476   \n",
       "min         0.000000       0.000000        2015.000000   \n",
       "25%         0.000000      18.000000        2016.000000   \n",
       "50%         0.000000      69.000000        2016.000000   \n",
       "75%         1.000000     160.000000        2017.000000   \n",
       "max         1.000000     737.000000        2017.000000   \n",
       "\n",
       "       arrival_date_week_number  arrival_date_day_of_month  \\\n",
       "count             119390.000000              119390.000000   \n",
       "mean                  27.165173                  15.798241   \n",
       "std                   13.605138                   8.780829   \n",
       "min                    1.000000                   1.000000   \n",
       "25%                   16.000000                   8.000000   \n",
       "50%                   28.000000                  16.000000   \n",
       "75%                   38.000000                  23.000000   \n",
       "max                   53.000000                  31.000000   \n",
       "\n",
       "       stays_in_weekend_nights  stays_in_week_nights         adults  \\\n",
       "count            119390.000000         119390.000000  119390.000000   \n",
       "mean                  0.927599              2.500302       1.856403   \n",
       "std                   0.998613              1.908286       0.579261   \n",
       "min                   0.000000              0.000000       0.000000   \n",
       "25%                   0.000000              1.000000       2.000000   \n",
       "50%                   1.000000              2.000000       2.000000   \n",
       "75%                   2.000000              3.000000       2.000000   \n",
       "max                  19.000000             50.000000      55.000000   \n",
       "\n",
       "            children         babies  is_repeated_guest  \\\n",
       "count  119386.000000  119390.000000      119390.000000   \n",
       "mean        0.103890       0.007949           0.031912   \n",
       "std         0.398561       0.097436           0.175767   \n",
       "min         0.000000       0.000000           0.000000   \n",
       "25%         0.000000       0.000000           0.000000   \n",
       "50%         0.000000       0.000000           0.000000   \n",
       "75%         0.000000       0.000000           0.000000   \n",
       "max        10.000000      10.000000           1.000000   \n",
       "\n",
       "       previous_cancellations  previous_bookings_not_canceled  \\\n",
       "count           119390.000000                   119390.000000   \n",
       "mean                 0.087118                        0.137097   \n",
       "std                  0.844336                        1.497437   \n",
       "min                  0.000000                        0.000000   \n",
       "25%                  0.000000                        0.000000   \n",
       "50%                  0.000000                        0.000000   \n",
       "75%                  0.000000                        0.000000   \n",
       "max                 26.000000                       72.000000   \n",
       "\n",
       "       booking_changes          agent      company  days_in_waiting_list  \\\n",
       "count    119390.000000  103050.000000  6797.000000         119390.000000   \n",
       "mean          0.221124      86.693382   189.266735              2.321149   \n",
       "std           0.652306     110.774548   131.655015             17.594721   \n",
       "min           0.000000       1.000000     6.000000              0.000000   \n",
       "25%           0.000000       9.000000    62.000000              0.000000   \n",
       "50%           0.000000      14.000000   179.000000              0.000000   \n",
       "75%           0.000000     229.000000   270.000000              0.000000   \n",
       "max          21.000000     535.000000   543.000000            391.000000   \n",
       "\n",
       "                 adr  required_car_parking_spaces  total_of_special_requests  \n",
       "count  119390.000000                119390.000000              119390.000000  \n",
       "mean      101.831122                     0.062518                   0.571363  \n",
       "std        50.535790                     0.245291                   0.792798  \n",
       "min        -6.380000                     0.000000                   0.000000  \n",
       "25%        69.290000                     0.000000                   0.000000  \n",
       "50%        94.575000                     0.000000                   0.000000  \n",
       "75%       126.000000                     0.000000                   1.000000  \n",
       "max      5400.000000                     8.000000                   5.000000  "
      ]
     },
     "execution_count": 9,
     "metadata": {},
     "output_type": "execute_result"
    }
   ],
   "source": [
    "df.describe()"
   ]
  },
  {
   "cell_type": "markdown",
   "metadata": {
    "id": "hAWnZzeabhMZ"
   },
   "source": [
    "É impossivel ter uma reserva em que a quantidade de adultos seja nula ao mesmo tempo que a de crianças e bebês. Iremos remover esses casos da nossa base de dados."
   ]
  },
  {
   "cell_type": "code",
   "execution_count": 11,
   "metadata": {
    "colab": {
     "base_uri": "https://localhost:8080/"
    },
    "executionInfo": {
     "elapsed": 231,
     "status": "ok",
     "timestamp": 1656302714925,
     "user": {
      "displayName": "Marine Chevallier",
      "userId": "04126435341853057761"
     },
     "user_tz": 180
    },
    "id": "pLzjAX17Ngfu",
    "outputId": "3913e3ec-fa3b-4e7a-97c1-7050f27ade72"
   },
   "outputs": [
    {
     "data": {
      "text/plain": [
       "Index(['hotel', 'is_canceled', 'lead_time', 'arrival_date_year',\n",
       "       'arrival_date_month', 'arrival_date_week_number',\n",
       "       'arrival_date_day_of_month', 'stays_in_weekend_nights',\n",
       "       'stays_in_week_nights', 'adults', 'children', 'babies', 'meal',\n",
       "       'country', 'market_segment', 'distribution_channel',\n",
       "       'is_repeated_guest', 'previous_cancellations',\n",
       "       'previous_bookings_not_canceled', 'reserved_room_type',\n",
       "       'assigned_room_type', 'booking_changes', 'deposit_type', 'agent',\n",
       "       'company', 'days_in_waiting_list', 'customer_type', 'adr',\n",
       "       'required_car_parking_spaces', 'total_of_special_requests',\n",
       "       'reservation_status', 'reservation_status_date'],\n",
       "      dtype='object')"
      ]
     },
     "execution_count": 11,
     "metadata": {},
     "output_type": "execute_result"
    }
   ],
   "source": [
    "df.columns"
   ]
  },
  {
   "cell_type": "code",
   "execution_count": 12,
   "metadata": {
    "colab": {
     "base_uri": "https://localhost:8080/"
    },
    "executionInfo": {
     "elapsed": 3,
     "status": "ok",
     "timestamp": 1656302715297,
     "user": {
      "displayName": "Marine Chevallier",
      "userId": "04126435341853057761"
     },
     "user_tz": 180
    },
    "id": "dE74Pql9bOp5",
    "outputId": "964d9976-e398-47a0-9668-9f4e70a54249"
   },
   "outputs": [
    {
     "data": {
      "text/plain": [
       "False    119210\n",
       "True        180\n",
       "dtype: int64"
      ]
     },
     "execution_count": 12,
     "metadata": {},
     "output_type": "execute_result"
    }
   ],
   "source": [
    "filter = (df.adults ==0 ) & (df.children ==0 ) & (df.babies ==0 )\n",
    "filter.value_counts()"
   ]
  },
  {
   "cell_type": "code",
   "execution_count": 13,
   "metadata": {
    "executionInfo": {
     "elapsed": 444,
     "status": "ok",
     "timestamp": 1656302716158,
     "user": {
      "displayName": "Marine Chevallier",
      "userId": "04126435341853057761"
     },
     "user_tz": 180
    },
    "id": "9a0RnHE3b9qw"
   },
   "outputs": [],
   "source": [
    "df = df[~filter]"
   ]
  },
  {
   "cell_type": "markdown",
   "metadata": {
    "id": "PqrT0WMikOfF"
   },
   "source": [
    "Também é impossivel ter reservas em que não foram feitas nem durante a semana nem durante o final de semana. Também vamos remover esses casos"
   ]
  },
  {
   "cell_type": "code",
   "execution_count": 14,
   "metadata": {
    "colab": {
     "base_uri": "https://localhost:8080/"
    },
    "executionInfo": {
     "elapsed": 2,
     "status": "ok",
     "timestamp": 1656302716545,
     "user": {
      "displayName": "Marine Chevallier",
      "userId": "04126435341853057761"
     },
     "user_tz": 180
    },
    "id": "nITZwHE-j8df",
    "outputId": "5085c7c4-a770-438f-ed98-645447589ce7"
   },
   "outputs": [
    {
     "data": {
      "text/plain": [
       "False    118565\n",
       "True        645\n",
       "dtype: int64"
      ]
     },
     "execution_count": 14,
     "metadata": {},
     "output_type": "execute_result"
    }
   ],
   "source": [
    "another_filter =  ((df.stays_in_weekend_nights ==0 ) & (df.stays_in_week_nights ==0 ))\n",
    "another_filter.value_counts()"
   ]
  },
  {
   "cell_type": "code",
   "execution_count": 15,
   "metadata": {
    "executionInfo": {
     "elapsed": 2,
     "status": "ok",
     "timestamp": 1656302716787,
     "user": {
      "displayName": "Marine Chevallier",
      "userId": "04126435341853057761"
     },
     "user_tz": 180
    },
    "id": "Kbd_e_56kZAr"
   },
   "outputs": [],
   "source": [
    "df = df[~another_filter]"
   ]
  },
  {
   "cell_type": "markdown",
   "metadata": {
    "id": "K9Ecc3ZsM6xd"
   },
   "source": [
    "# Análise Exploratória dos Dados"
   ]
  },
  {
   "cell_type": "code",
   "execution_count": 16,
   "metadata": {
    "colab": {
     "base_uri": "https://localhost:8080/",
     "height": 1000,
     "output_embedded_package_id": "1BwJjBXrRhx28Mjv9YEMKZ3WnBAMasSaP"
    },
    "executionInfo": {
     "elapsed": 36205,
     "status": "ok",
     "timestamp": 1656302753671,
     "user": {
      "displayName": "Marine Chevallier",
      "userId": "04126435341853057761"
     },
     "user_tz": 180
    },
    "id": "1ylb01UzM6xd",
    "outputId": "8f60e8ae-cd55-4fb3-d2f7-f63913407a36"
   },
   "outputs": [
    {
     "data": {
      "text/plain": [
       "Output hidden; open in https://colab.research.google.com to view."
      ]
     },
     "metadata": {},
     "output_type": "display_data"
    }
   ],
   "source": [
    "for coluna in df.columns:\n",
    "    grafico = px.histogram(df, x=coluna, color=\"is_canceled\")\n",
    "    grafico.show()"
   ]
  },
  {
   "cell_type": "code",
   "execution_count": 17,
   "metadata": {
    "colab": {
     "base_uri": "https://localhost:8080/"
    },
    "executionInfo": {
     "elapsed": 8,
     "status": "ok",
     "timestamp": 1656302753672,
     "user": {
      "displayName": "Marine Chevallier",
      "userId": "04126435341853057761"
     },
     "user_tz": 180
    },
    "id": "Vnq37-PNOGFQ",
    "outputId": "ef7d9b17-8e89-4c53-f9eb-a6344830d984"
   },
   "outputs": [
    {
     "data": {
      "text/plain": [
       "City Hotel      78899\n",
       "Resort Hotel    39666\n",
       "Name: hotel, dtype: int64"
      ]
     },
     "execution_count": 17,
     "metadata": {},
     "output_type": "execute_result"
    }
   ],
   "source": [
    "df.hotel.value_counts()"
   ]
  },
  {
   "cell_type": "code",
   "execution_count": 18,
   "metadata": {
    "colab": {
     "base_uri": "https://localhost:8080/",
     "height": 315
    },
    "executionInfo": {
     "elapsed": 1995,
     "status": "ok",
     "timestamp": 1656302755662,
     "user": {
      "displayName": "Marine Chevallier",
      "userId": "04126435341853057761"
     },
     "user_tz": 180
    },
    "id": "8cxX6lDOQqev",
    "outputId": "ccc3226e-f8b9-4d39-8fea-8d0e8ee799c4",
    "scrolled": true
   },
   "outputs": [
    {
     "name": "stdout",
     "output_type": "stream",
     "text": [
      "Cancelamentos em Resort Hotel =  0.28008874098724346\n",
      "Cancelamentos em City Hotel =  0.4190927641668462\n"
     ]
    },
    {
     "data": {
      "image/png": "[encoded data removed]",
      "text/plain": [
       "<Figure size 432x288 with 1 Axes>"
      ]
     },
     "metadata": {
      "needs_background": "light"
     },
     "output_type": "display_data"
    }
   ],
   "source": [
    "sns.countplot(data=df, x='hotel', hue='is_canceled')\n",
    "resort_canceled = df[(df['hotel']=='Resort Hotel') & (df['is_canceled']==1)]\n",
    "city_canceled = df[(df['hotel']=='City Hotel') & (df['is_canceled']==1)]\n",
    "print('Cancelamentos em Resort Hotel = ', (len(resort_canceled))/(len(df[df['hotel']=='Resort Hotel'])))\n",
    "print('Cancelamentos em City Hotel = ', (len(city_canceled))/(len(df[df['hotel']=='City Hotel'])))"
   ]
  },
  {
   "cell_type": "markdown",
   "metadata": {
    "id": "66C3bjb4Qqev"
   },
   "source": [
    "Há mais cancelamentos em City Hotel do que em Resort Hotel.\n",
    "\n"
   ]
  },
  {
   "cell_type": "markdown",
   "metadata": {
    "id": "c6uSvQ_DQqew"
   },
   "source": [
    "Há maiores cancelamentos quando a reserva foi feita entre 60 e 70 dias antes da data de check-in.\n",
    "Quanto maior a quantidade de dias entre a reserva e a data de chegada, menor o cancelamento. Isso invalida a segunda suposição."
   ]
  },
  {
   "cell_type": "code",
   "execution_count": 19,
   "metadata": {
    "colab": {
     "base_uri": "https://localhost:8080/"
    },
    "executionInfo": {
     "elapsed": 285,
     "status": "ok",
     "timestamp": 1656302760595,
     "user": {
      "displayName": "Marine Chevallier",
      "userId": "04126435341853057761"
     },
     "user_tz": 180
    },
    "id": "Tdl2XVazQqew",
    "outputId": "0e8ca653-25a0-4302-b409-10b5b02b9bd6"
   },
   "outputs": [
    {
     "data": {
      "text/plain": [
       "7.8412685025091715"
      ]
     },
     "execution_count": 19,
     "metadata": {},
     "output_type": "execute_result"
    }
   ],
   "source": [
    "# conferindo a porcentagem de reservas que tenha crianças ou bebês\n",
    "((len(df.loc[(df['children']!=0) | (df['babies']!=0)]))/(len(df))) * 100\n",
    "\n",
    "# porcentagem baixa, irrelevante na análise."
   ]
  },
  {
   "cell_type": "markdown",
   "metadata": {
    "id": "T1842hDIZCRp"
   },
   "source": [
    "A porcentagem de reservas que tenham crianças ou bebês é baixa, o que torna essa hipótese 3 irrelevante na análise."
   ]
  },
  {
   "cell_type": "code",
   "execution_count": 22,
   "metadata": {
    "colab": {
     "base_uri": "https://localhost:8080/",
     "height": 316
    },
    "executionInfo": {
     "elapsed": 3459,
     "status": "ok",
     "timestamp": 1656302770779,
     "user": {
      "displayName": "Marine Chevallier",
      "userId": "04126435341853057761"
     },
     "user_tz": 180
    },
    "id": "vytqHmaFQqew",
    "outputId": "9e32b398-ec72-429f-8191-ff34c2081013"
   },
   "outputs": [
    {
     "name": "stdout",
     "output_type": "stream",
     "text": [
      "Cancelamentos dos novos hóspedes =  0.38\n",
      "Cancelamentos dos antigos hóspedes =  0.16\n"
     ]
    },
    {
     "data": {
      "image/png": "[encoded data removed]",
      "text/plain": [
       "<Figure size 432x288 with 1 Axes>"
      ]
     },
     "metadata": {
      "needs_background": "light"
     },
     "output_type": "display_data"
    }
   ],
   "source": [
    "sns.countplot(data=df, x='is_repeated_guest', hue='is_canceled')\n",
    "new_guest = df[(df['is_repeated_guest']==0) & (df['is_canceled']==1)]\n",
    "old_guest = df[(df['is_repeated_guest']==1) & (df['is_canceled']==1)]\n",
    "print('Cancelamentos dos novos hóspedes = ', round((len(new_guest))/(len(df[df['is_repeated_guest']==0])),2))\n",
    "print('Cancelamentos dos antigos hóspedes = ', round((len(old_guest))/(len(df[df['is_repeated_guest']==1])),2))"
   ]
  },
  {
   "cell_type": "markdown",
   "metadata": {
    "id": "4wFWlZn2Qqex"
   },
   "source": [
    "Há maiores cancelamentos entre os novos hóspedes."
   ]
  },
  {
   "cell_type": "code",
   "execution_count": 23,
   "metadata": {
    "colab": {
     "base_uri": "https://localhost:8080/",
     "height": 298
    },
    "executionInfo": {
     "elapsed": 3702,
     "status": "ok",
     "timestamp": 1656302774473,
     "user": {
      "displayName": "Marine Chevallier",
      "userId": "04126435341853057761"
     },
     "user_tz": 180
    },
    "id": "P73-H6IMQqex",
    "outputId": "e4d16cb8-ac8b-4789-d396-31db9d54bce4"
   },
   "outputs": [
    {
     "data": {
      "text/plain": [
       "<matplotlib.axes._subplots.AxesSubplot at 0x7fddc96c74d0>"
      ]
     },
     "execution_count": 23,
     "metadata": {},
     "output_type": "execute_result"
    },
    {
     "data": {
      "image/png": "[encoded data removed]",
      "text/plain": [
       "<Figure size 432x288 with 1 Axes>"
      ]
     },
     "metadata": {
      "needs_background": "light"
     },
     "output_type": "display_data"
    }
   ],
   "source": [
    "sns.countplot(data=df, x='previous_cancellations', hue='is_canceled')"
   ]
  },
  {
   "cell_type": "markdown",
   "metadata": {
    "id": "_KCzuA_QQqex"
   },
   "source": [
    "Os clientes que já cancelaram uma vez, tem maior probabilidade de cancelar a reserva atual. O que confirma a correlação positiva entre o num_previous_cancellations com a variavel cancellation."
   ]
  },
  {
   "cell_type": "code",
   "execution_count": 25,
   "metadata": {
    "colab": {
     "base_uri": "https://localhost:8080/",
     "height": 280
    },
    "executionInfo": {
     "elapsed": 4393,
     "status": "ok",
     "timestamp": 1656302778856,
     "user": {
      "displayName": "Marine Chevallier",
      "userId": "04126435341853057761"
     },
     "user_tz": 180
    },
    "id": "JzbPRpruQqex",
    "outputId": "21102786-0c4f-4921-8f0c-a19fba1b5245"
   },
   "outputs": [
    {
     "data": {
      "image/png": "[encoded data removed]",
      "text/plain": [
       "<Figure size 432x288 with 1 Axes>"
      ]
     },
     "metadata": {
      "needs_background": "light"
     },
     "output_type": "display_data"
    }
   ],
   "source": [
    "# fig, ax = plt.subplots(figsize=(14,7))\n",
    "sns.countplot(x=\"deposit_type\", hue=\"is_canceled\",data=df);"
   ]
  },
  {
   "cell_type": "markdown",
   "metadata": {
    "id": "YT7zw6SLQqey"
   },
   "source": [
    "As reservas não reembolsáveis também são canceladas."
   ]
  },
  {
   "cell_type": "code",
   "execution_count": 26,
   "metadata": {
    "colab": {
     "base_uri": "https://localhost:8080/",
     "height": 298
    },
    "executionInfo": {
     "elapsed": 1624,
     "status": "ok",
     "timestamp": 1656302783869,
     "user": {
      "displayName": "Marine Chevallier",
      "userId": "04126435341853057761"
     },
     "user_tz": 180
    },
    "id": "rDo7-PA5Qqey",
    "outputId": "de00bdf1-e509-4352-91ce-6469944fa498"
   },
   "outputs": [
    {
     "data": {
      "text/plain": [
       "<matplotlib.axes._subplots.AxesSubplot at 0x7fddc2186450>"
      ]
     },
     "execution_count": 26,
     "metadata": {},
     "output_type": "execute_result"
    },
    {
     "data": {
      "image/png": "[encoded data removed]",
      "text/plain": [
       "<Figure size 432x288 with 1 Axes>"
      ]
     },
     "metadata": {
      "needs_background": "light"
     },
     "output_type": "display_data"
    }
   ],
   "source": [
    "sns.countplot(data=df, x='arrival_date_year', hue='is_canceled')"
   ]
  },
  {
   "cell_type": "code",
   "execution_count": 27,
   "metadata": {
    "colab": {
     "base_uri": "https://localhost:8080/",
     "height": 431
    },
    "executionInfo": {
     "elapsed": 6719,
     "status": "ok",
     "timestamp": 1656302799139,
     "user": {
      "displayName": "Marine Chevallier",
      "userId": "04126435341853057761"
     },
     "user_tz": 180
    },
    "id": "hCBe1X0zQqey",
    "outputId": "9691e5f9-1132-42eb-9e6e-87099524e06b"
   },
   "outputs": [
    {
     "data": {
      "text/plain": [
       "<seaborn.axisgrid.FacetGrid at 0x7fddc216dbd0>"
      ]
     },
     "execution_count": 27,
     "metadata": {},
     "output_type": "execute_result"
    },
    {
     "data": {
      "image/png": "[encoded data removed]",
      "text/plain": [
       "<Figure size 426.125x360 with 1 Axes>"
      ]
     },
     "metadata": {
      "needs_background": "light"
     },
     "output_type": "display_data"
    }
   ],
   "source": [
    "chart = sns.catplot(data=df, x='arrival_date_month', hue='is_canceled', kind='count')\n",
    "chart.set_xticklabels(rotation=65, horizontalalignment='right')"
   ]
  },
  {
   "cell_type": "markdown",
   "metadata": {
    "id": "fWo6MbFeQqey"
   },
   "source": [
    "Máximo de reservas ocorreu em 2016 nos meses de julho e agosto, verão europeu."
   ]
  },
  {
   "cell_type": "markdown",
   "metadata": {
    "id": "j3xKrqbsllwx"
   },
   "source": [
    "Para avaliar se em Resort Hotel o periodo de reserva costuma ser maior do que em City Hotel, foi criada uma nova variável 'total_nights' que é a soma de 'num_weekend_nights' com 'num_workweek_nights' e também filtramos apenas as reservas que não foram canceladas."
   ]
  },
  {
   "cell_type": "code",
   "execution_count": 28,
   "metadata": {
    "executionInfo": {
     "elapsed": 306,
     "status": "ok",
     "timestamp": 1656302802813,
     "user": {
      "displayName": "Marine Chevallier",
      "userId": "04126435341853057761"
     },
     "user_tz": 180
    },
    "id": "pApY4dEfk2OQ"
   },
   "outputs": [],
   "source": [
    "df['total_nights'] = df.stays_in_weekend_nights + df.stays_in_week_nights"
   ]
  },
  {
   "cell_type": "code",
   "execution_count": 29,
   "metadata": {
    "colab": {
     "base_uri": "https://localhost:8080/",
     "height": 393
    },
    "executionInfo": {
     "elapsed": 2369,
     "status": "ok",
     "timestamp": 1656302805633,
     "user": {
      "displayName": "Marine Chevallier",
      "userId": "04126435341853057761"
     },
     "user_tz": 180
    },
    "id": "o5Tk6n2YjfxD",
    "outputId": "8e19e9be-e60f-459f-edc7-6ef3428b72ca"
   },
   "outputs": [
    {
     "data": {
      "text/plain": [
       "<seaborn.axisgrid.FacetGrid at 0x7fddcb40b3d0>"
      ]
     },
     "execution_count": 29,
     "metadata": {},
     "output_type": "execute_result"
    },
    {
     "data": {
      "image/png": "[encoded data removed]",
      "text/plain": [
       "<Figure size 1177.25x360 with 1 Axes>"
      ]
     },
     "metadata": {
      "needs_background": "light"
     },
     "output_type": "display_data"
    }
   ],
   "source": [
    "chart = sns.catplot(data=df[df['is_canceled']==0], x='total_nights', hue='hotel', kind='count', aspect=15/5)\n",
    "chart.set_xticklabels(rotation=65, horizontalalignment='right')"
   ]
  },
  {
   "cell_type": "markdown",
   "metadata": {
    "id": "LuKIhducmkcs"
   },
   "source": [
    "Vemos que a partir de 7 noites, as reservas predominantes são para Resort Hotel."
   ]
  },
  {
   "cell_type": "code",
   "execution_count": 30,
   "metadata": {
    "colab": {
     "base_uri": "https://localhost:8080/",
     "height": 297
    },
    "executionInfo": {
     "elapsed": 2210,
     "status": "ok",
     "timestamp": 1656302807840,
     "user": {
      "displayName": "Marine Chevallier",
      "userId": "04126435341853057761"
     },
     "user_tz": 180
    },
    "id": "nVYA0TojQqey",
    "outputId": "943cef74-5170-49b0-cb38-6e52d8e9d3fe"
   },
   "outputs": [
    {
     "data": {
      "text/plain": [
       "<matplotlib.legend.Legend at 0x7fddcb197d50>"
      ]
     },
     "execution_count": 30,
     "metadata": {},
     "output_type": "execute_result"
    },
    {
     "data": {
      "image/png": "[encoded data removed]",
      "text/plain": [
       "<Figure size 432x288 with 1 Axes>"
      ]
     },
     "metadata": {
      "needs_background": "light"
     },
     "output_type": "display_data"
    }
   ],
   "source": [
    "g = sns.countplot(data=df, x='hotel', hue='reserved_room_type')\n",
    "g.legend(loc='center left', bbox_to_anchor=(1.25, 0.5), ncol=1)"
   ]
  },
  {
   "cell_type": "markdown",
   "metadata": {
    "id": "mAFKdEDnQqey"
   },
   "source": [
    "* Quartos mais reservados em Fancy Hotel: A, D e E\n",
    "* Quartos mais reservados em Hotel: A,D e F (bem menos)"
   ]
  },
  {
   "cell_type": "code",
   "execution_count": 31,
   "metadata": {
    "colab": {
     "base_uri": "https://localhost:8080/",
     "height": 206
    },
    "executionInfo": {
     "elapsed": 11,
     "status": "ok",
     "timestamp": 1656302808262,
     "user": {
      "displayName": "Marine Chevallier",
      "userId": "04126435341853057761"
     },
     "user_tz": 180
    },
    "id": "vzDKQbQYnKTf",
    "outputId": "937688cd-293e-4b8e-ebc2-607b3b943234"
   },
   "outputs": [
    {
     "data": {
      "text/html": [
       "\n",
       "  <div id=\"df-2e6744ba-dcfb-40a7-a78b-1851d411b738\">\n",
       "    <div class=\"colab-df-container\">\n",
       "      <div>\n",
       "<style scoped>\n",
       "    .dataframe tbody tr th:only-of-type {\n",
       "        vertical-align: middle;\n",
       "    }\n",
       "\n",
       "    .dataframe tbody tr th {\n",
       "        vertical-align: top;\n",
       "    }\n",
       "\n",
       "    .dataframe thead th {\n",
       "        text-align: right;\n",
       "    }\n",
       "</style>\n",
       "<table border=\"1\" class=\"dataframe\">\n",
       "  <thead>\n",
       "    <tr style=\"text-align: right;\">\n",
       "      <th></th>\n",
       "      <th>Country</th>\n",
       "      <th>No of guests</th>\n",
       "    </tr>\n",
       "  </thead>\n",
       "  <tbody>\n",
       "    <tr>\n",
       "      <th>0</th>\n",
       "      <td>PRT</td>\n",
       "      <td>20449</td>\n",
       "    </tr>\n",
       "    <tr>\n",
       "      <th>1</th>\n",
       "      <td>GBR</td>\n",
       "      <td>9644</td>\n",
       "    </tr>\n",
       "    <tr>\n",
       "      <th>2</th>\n",
       "      <td>FRA</td>\n",
       "      <td>8457</td>\n",
       "    </tr>\n",
       "    <tr>\n",
       "      <th>3</th>\n",
       "      <td>ESP</td>\n",
       "      <td>6368</td>\n",
       "    </tr>\n",
       "    <tr>\n",
       "      <th>4</th>\n",
       "      <td>DEU</td>\n",
       "      <td>6067</td>\n",
       "    </tr>\n",
       "  </tbody>\n",
       "</table>\n",
       "</div>\n",
       "      <button class=\"colab-df-convert\" onclick=\"convertToInteractive('df-2e6744ba-dcfb-40a7-a78b-1851d411b738')\"\n",
       "              title=\"Convert this dataframe to an interactive table.\"\n",
       "              style=\"display:none;\">\n",
       "        \n",
       "  <svg xmlns=\"http://www.w3.org/2000/svg\" height=\"24px\"viewBox=\"0 0 24 24\"\n",
       "       width=\"24px\">\n",
       "    <path d=\"M0 0h24v24H0V0z\" fill=\"none\"/>\n",
       "    <path d=\"M18.56 5.44l.94 2.06.94-2.06 2.06-.94-2.06-.94-.94-2.06-.94 2.06-2.06.94zm-11 1L8.5 8.5l.94-2.06 2.06-.94-2.06-.94L8.5 2.5l-.94 2.06-2.06.94zm10 10l.94 2.06.94-2.06 2.06-.94-2.06-.94-.94-2.06-.94 2.06-2.06.94z\"/><path d=\"M17.41 7.96l-1.37-1.37c-.4-.4-.92-.59-1.43-.59-.52 0-1.04.2-1.43.59L10.3 9.45l-7.72 7.72c-.78.78-.78 2.05 0 2.83L4 21.41c.39.39.9.59 1.41.59.51 0 1.02-.2 1.41-.59l7.78-7.78 2.81-2.81c.8-.78.8-2.07 0-2.86zM5.41 20L4 18.59l7.72-7.72 1.47 1.35L5.41 20z\"/>\n",
       "  </svg>\n",
       "      </button>\n",
       "      \n",
       "  <style>\n",
       "    .colab-df-container {\n",
       "      display:flex;\n",
       "      flex-wrap:wrap;\n",
       "      gap: 12px;\n",
       "    }\n",
       "\n",
       "    .colab-df-convert {\n",
       "      background-color: #E8F0FE;\n",
       "      border: none;\n",
       "      border-radius: 50%;\n",
       "      cursor: pointer;\n",
       "      display: none;\n",
       "      fill: #1967D2;\n",
       "      height: 32px;\n",
       "      padding: 0 0 0 0;\n",
       "      width: 32px;\n",
       "    }\n",
       "\n",
       "    .colab-df-convert:hover {\n",
       "      background-color: #E2EBFA;\n",
       "      box-shadow: 0px 1px 2px rgba(60, 64, 67, 0.3), 0px 1px 3px 1px rgba(60, 64, 67, 0.15);\n",
       "      fill: #174EA6;\n",
       "    }\n",
       "\n",
       "    [theme=dark] .colab-df-convert {\n",
       "      background-color: #3B4455;\n",
       "      fill: #D2E3FC;\n",
       "    }\n",
       "\n",
       "    [theme=dark] .colab-df-convert:hover {\n",
       "      background-color: #434B5C;\n",
       "      box-shadow: 0px 1px 3px 1px rgba(0, 0, 0, 0.15);\n",
       "      filter: drop-shadow(0px 1px 2px rgba(0, 0, 0, 0.3));\n",
       "      fill: #FFFFFF;\n",
       "    }\n",
       "  </style>\n",
       "\n",
       "      <script>\n",
       "        const buttonEl =\n",
       "          document.querySelector('#df-2e6744ba-dcfb-40a7-a78b-1851d411b738 button.colab-df-convert');\n",
       "        buttonEl.style.display =\n",
       "          google.colab.kernel.accessAllowed ? 'block' : 'none';\n",
       "\n",
       "        async function convertToInteractive(key) {\n",
       "          const element = document.querySelector('#df-2e6744ba-dcfb-40a7-a78b-1851d411b738');\n",
       "          const dataTable =\n",
       "            await google.colab.kernel.invokeFunction('convertToInteractive',\n",
       "                                                     [key], {});\n",
       "          if (!dataTable) return;\n",
       "\n",
       "          const docLinkHtml = 'Like what you see? Visit the ' +\n",
       "            '<a target=\"_blank\" href=https://colab.research.google.com/notebooks/data_table.ipynb>data table notebook</a>'\n",
       "            + ' to learn more about interactive tables.';\n",
       "          element.innerHTML = '';\n",
       "          dataTable['output_type'] = 'display_data';\n",
       "          await google.colab.output.renderOutput(dataTable, element);\n",
       "          const docLink = document.createElement('div');\n",
       "          docLink.innerHTML = docLinkHtml;\n",
       "          element.appendChild(docLink);\n",
       "        }\n",
       "      </script>\n",
       "    </div>\n",
       "  </div>\n",
       "  "
      ],
      "text/plain": [
       "  Country  No of guests\n",
       "0     PRT         20449\n",
       "1     GBR          9644\n",
       "2     FRA          8457\n",
       "3     ESP          6368\n",
       "4     DEU          6067"
      ]
     },
     "execution_count": 31,
     "metadata": {},
     "output_type": "execute_result"
    }
   ],
   "source": [
    "guest_country = df[df.is_canceled==0]['country'].value_counts().reset_index()\n",
    "guest_country.columns = ['Country', 'No of guests']\n",
    "guest_country.head()"
   ]
  },
  {
   "cell_type": "code",
   "execution_count": 32,
   "metadata": {
    "colab": {
     "base_uri": "https://localhost:8080/",
     "height": 315
    },
    "executionInfo": {
     "elapsed": 1904,
     "status": "ok",
     "timestamp": 1656302810159,
     "user": {
      "displayName": "Marine Chevallier",
      "userId": "04126435341853057761"
     },
     "user_tz": 180
    },
    "id": "rEkxM9Q7Qqez",
    "outputId": "6681f36e-628a-4f5b-f756-67368582cb2e"
   },
   "outputs": [
    {
     "name": "stderr",
     "output_type": "stream",
     "text": [
      "/usr/local/lib/python3.7/dist-packages/seaborn/axisgrid.py:670: UserWarning:\n",
      "\n",
      "Using the countplot function without specifying `order` is likely to produce an incorrect plot.\n",
      "\n"
     ]
    },
    {
     "data": {
      "text/plain": [
       "<seaborn.axisgrid.FacetGrid at 0x7fddca826b50>"
      ]
     },
     "execution_count": 32,
     "metadata": {},
     "output_type": "execute_result"
    },
    {
     "data": {
      "image/png": "[encoded data removed]",
      "text/plain": [
       "<Figure size 1080x216 with 5 Axes>"
      ]
     },
     "metadata": {
      "needs_background": "light"
     },
     "output_type": "display_data"
    }
   ],
   "source": [
    "temp = df.loc[(df['country']=='PRT') | (df['country']=='GBR') | (df['country']=='ESP') | (df['country']=='FRA') | (df['country']=='IRL')]\n",
    "grid = sns.FacetGrid(temp, col='country')\n",
    "grid.map(sns.countplot, 'distribution_channel')"
   ]
  },
  {
   "cell_type": "markdown",
   "metadata": {
    "id": "xc8lIsHNm__B"
   },
   "source": [
    "Ao saber quais são os canais de distribuição mais utilizados nos 5 países dos hóspedes que mais fazem reservas, pode-se investir em meios de publicidades mais eficazes."
   ]
  },
  {
   "cell_type": "code",
   "execution_count": 33,
   "metadata": {
    "colab": {
     "base_uri": "https://localhost:8080/",
     "height": 604
    },
    "executionInfo": {
     "elapsed": 883,
     "status": "ok",
     "timestamp": 1656302811039,
     "user": {
      "displayName": "Marine Chevallier",
      "userId": "04126435341853057761"
     },
     "user_tz": 180
    },
    "id": "kC2aUDcDqN0B",
    "outputId": "74f0d1dc-bb17-4072-c28e-dbe399a95665"
   },
   "outputs": [
    {
     "data": {
      "text/plain": [
       "<matplotlib.axes._subplots.AxesSubplot at 0x7fddc96c5850>"
      ]
     },
     "execution_count": 33,
     "metadata": {},
     "output_type": "execute_result"
    },
    {
     "data": {
      "image/png": "[encoded data removed]",
      "text/plain": [
       "<Figure size 1008x504 with 2 Axes>"
      ]
     },
     "metadata": {
      "needs_background": "light"
     },
     "output_type": "display_data"
    }
   ],
   "source": [
    "# correlação das variáveis\n",
    "fig, ax = plt.subplots(figsize=(14,7))\n",
    "sns.heatmap(df.corr())"
   ]
  },
  {
   "cell_type": "code",
   "execution_count": 34,
   "metadata": {
    "colab": {
     "base_uri": "https://localhost:8080/"
    },
    "executionInfo": {
     "elapsed": 399,
     "status": "ok",
     "timestamp": 1656302811435,
     "user": {
      "displayName": "Marine Chevallier",
      "userId": "04126435341853057761"
     },
     "user_tz": 180
    },
    "id": "dlFZm4g8Qqeu",
    "outputId": "e36fa1b2-0ff1-4336-aabf-e9a911c80724"
   },
   "outputs": [
    {
     "data": {
      "text/plain": [
       "is_canceled                       1.000000\n",
       "lead_time                         0.291515\n",
       "arrival_date_year                 0.015438\n",
       "arrival_date_week_number          0.009019\n",
       "arrival_date_day_of_month        -0.006108\n",
       "stays_in_weekend_nights          -0.004859\n",
       "stays_in_week_nights              0.020703\n",
       "adults                            0.057575\n",
       "children                          0.004690\n",
       "babies                           -0.032672\n",
       "is_repeated_guest                -0.077791\n",
       "previous_cancellations            0.109974\n",
       "previous_bookings_not_canceled   -0.057541\n",
       "booking_changes                  -0.145198\n",
       "agent                            -0.082325\n",
       "company                          -0.024795\n",
       "days_in_waiting_list              0.053941\n",
       "adr                               0.039368\n",
       "required_car_parking_spaces      -0.196804\n",
       "total_of_special_requests        -0.236165\n",
       "total_nights                      0.013554\n",
       "Name: is_canceled, dtype: float64"
      ]
     },
     "execution_count": 34,
     "metadata": {},
     "output_type": "execute_result"
    }
   ],
   "source": [
    "corr= df.corr(method='pearson')['is_canceled'][:]\n",
    "corr"
   ]
  },
  {
   "cell_type": "code",
   "execution_count": 35,
   "metadata": {
    "colab": {
     "base_uri": "https://localhost:8080/"
    },
    "executionInfo": {
     "elapsed": 11,
     "status": "ok",
     "timestamp": 1656302811436,
     "user": {
      "displayName": "Marine Chevallier",
      "userId": "04126435341853057761"
     },
     "user_tz": 180
    },
    "id": "uBqRiMqeaPHr",
    "outputId": "e77740af-0e37-4c73-b5e8-89bde61af96a"
   },
   "outputs": [
    {
     "data": {
      "text/plain": [
       "0    0.627411\n",
       "1    0.372589\n",
       "Name: is_canceled, dtype: float64"
      ]
     },
     "execution_count": 35,
     "metadata": {},
     "output_type": "execute_result"
    }
   ],
   "source": [
    "df['is_canceled'].value_counts(normalize=True)"
   ]
  },
  {
   "cell_type": "markdown",
   "metadata": {
    "id": "IUfqHKHuQqez"
   },
   "source": [
    "# Features engineering"
   ]
  },
  {
   "cell_type": "code",
   "execution_count": 36,
   "metadata": {
    "executionInfo": {
     "elapsed": 8,
     "status": "ok",
     "timestamp": 1656302811436,
     "user": {
      "displayName": "Marine Chevallier",
      "userId": "04126435341853057761"
     },
     "user_tz": 180
    },
    "id": "1_KP4yVCQqez"
   },
   "outputs": [],
   "source": [
    "month_map = {'January':'01', 'February':'02', 'March':'03', 'April':'04', 'May':'05', 'June':'06', 'July':'07', 'August':'08', 'September':'09', 'October':'10', 'November':'11', 'December':'12'}\n",
    "df['arrival_date_month'] = df.arrival_date_month.map(month_map).astype(int)"
   ]
  },
  {
   "cell_type": "code",
   "execution_count": 37,
   "metadata": {
    "executionInfo": {
     "elapsed": 9,
     "status": "ok",
     "timestamp": 1656302811437,
     "user": {
      "displayName": "Marine Chevallier",
      "userId": "04126435341853057761"
     },
     "user_tz": 180
    },
    "id": "t0PtDIipQqez"
   },
   "outputs": [],
   "source": [
    "# criando a data de chegada\n",
    "df['arrival_date'] = df['arrival_date_year'].astype(str)+'-'+df['arrival_date_month'].astype(str)\\\n",
    "                        +'-'+df['arrival_date_day_of_month'].astype(str)\n",
    "# passando pra formato de data\n",
    "df['arrival_date'] = pd.to_datetime(df['arrival_date'])"
   ]
  },
  {
   "cell_type": "code",
   "execution_count": 38,
   "metadata": {
    "executionInfo": {
     "elapsed": 8,
     "status": "ok",
     "timestamp": 1656302811437,
     "user": {
      "displayName": "Marine Chevallier",
      "userId": "04126435341853057761"
     },
     "user_tz": 180
    },
    "id": "LN8u1A7vQqez"
   },
   "outputs": [],
   "source": [
    "# # preenchendo as linhas vazias de crianças por 0\n",
    "df['children'] = df['children'].fillna(0)\n",
    "# criando uma nova coluna com a quantidade de filhos\n",
    "df['offspring'] = (df['children'] + df['babies']).astype(int)"
   ]
  },
  {
   "cell_type": "code",
   "execution_count": 39,
   "metadata": {
    "colab": {
     "base_uri": "https://localhost:8080/"
    },
    "executionInfo": {
     "elapsed": 8,
     "status": "ok",
     "timestamp": 1656302811437,
     "user": {
      "displayName": "Marine Chevallier",
      "userId": "04126435341853057761"
     },
     "user_tz": 180
    },
    "id": "mUOYFIhXRShD",
    "outputId": "9a6b4078-153c-4380-990b-b7db1b245160"
   },
   "outputs": [
    {
     "data": {
      "text/plain": [
       "Index(['hotel', 'is_canceled', 'lead_time', 'arrival_date_year',\n",
       "       'arrival_date_month', 'arrival_date_week_number',\n",
       "       'arrival_date_day_of_month', 'stays_in_weekend_nights',\n",
       "       'stays_in_week_nights', 'adults', 'children', 'babies', 'meal',\n",
       "       'country', 'market_segment', 'distribution_channel',\n",
       "       'is_repeated_guest', 'previous_cancellations',\n",
       "       'previous_bookings_not_canceled', 'reserved_room_type',\n",
       "       'assigned_room_type', 'booking_changes', 'deposit_type', 'agent',\n",
       "       'company', 'days_in_waiting_list', 'customer_type', 'adr',\n",
       "       'required_car_parking_spaces', 'total_of_special_requests',\n",
       "       'reservation_status', 'reservation_status_date', 'total_nights',\n",
       "       'arrival_date', 'offspring'],\n",
       "      dtype='object')"
      ]
     },
     "execution_count": 39,
     "metadata": {},
     "output_type": "execute_result"
    }
   ],
   "source": [
    "df.columns"
   ]
  },
  {
   "cell_type": "code",
   "execution_count": 40,
   "metadata": {
    "executionInfo": {
     "elapsed": 7,
     "status": "ok",
     "timestamp": 1656302811438,
     "user": {
      "displayName": "Marine Chevallier",
      "userId": "04126435341853057761"
     },
     "user_tz": 180
    },
    "id": "hbYVnLqLQqez"
   },
   "outputs": [],
   "source": [
    "# criando uma nova coluna com o total de reservas\n",
    "df['total_bookings'] = df['previous_cancellations'] + df['previous_bookings_not_canceled']"
   ]
  },
  {
   "cell_type": "code",
   "execution_count": 41,
   "metadata": {
    "executionInfo": {
     "elapsed": 7,
     "status": "ok",
     "timestamp": 1656302811438,
     "user": {
      "displayName": "Marine Chevallier",
      "userId": "04126435341853057761"
     },
     "user_tz": 180
    },
    "id": "a0xsRy7KQqe0"
   },
   "outputs": [],
   "source": [
    "# # preenchendo as linhas vazias de país com o mais frequente\n",
    "df['country'].fillna(df['country'].mode()[0], inplace=True)\n",
    "# # preenchendo as linhas vazias do id da agencia de viagem com o mais frequente\n",
    "df['agent'].fillna(df['agent'].mode()[0], inplace=True)"
   ]
  },
  {
   "cell_type": "code",
   "execution_count": 46,
   "metadata": {
    "executionInfo": {
     "elapsed": 230,
     "status": "ok",
     "timestamp": 1656302843789,
     "user": {
      "displayName": "Marine Chevallier",
      "userId": "04126435341853057761"
     },
     "user_tz": 180
    },
    "id": "ujo9n4dpUlCQ"
   },
   "outputs": [],
   "source": [
    "df_model = df[['hotel', 'deposit_type','country', 'market_segment', 'distribution_channel', 'customer_type', 'is_canceled']]"
   ]
  },
  {
   "cell_type": "code",
   "execution_count": 47,
   "metadata": {
    "colab": {
     "base_uri": "https://localhost:8080/",
     "height": 206
    },
    "executionInfo": {
     "elapsed": 5,
     "status": "ok",
     "timestamp": 1656302850441,
     "user": {
      "displayName": "Marine Chevallier",
      "userId": "04126435341853057761"
     },
     "user_tz": 180
    },
    "id": "4WfG3sPTV754",
    "outputId": "43cb30dc-03ae-418d-ac8f-d9ef0af17076"
   },
   "outputs": [
    {
     "data": {
      "text/html": [
       "\n",
       "  <div id=\"df-414e7915-17a3-45c8-b909-3105e765e393\">\n",
       "    <div class=\"colab-df-container\">\n",
       "      <div>\n",
       "<style scoped>\n",
       "    .dataframe tbody tr th:only-of-type {\n",
       "        vertical-align: middle;\n",
       "    }\n",
       "\n",
       "    .dataframe tbody tr th {\n",
       "        vertical-align: top;\n",
       "    }\n",
       "\n",
       "    .dataframe thead th {\n",
       "        text-align: right;\n",
       "    }\n",
       "</style>\n",
       "<table border=\"1\" class=\"dataframe\">\n",
       "  <thead>\n",
       "    <tr style=\"text-align: right;\">\n",
       "      <th></th>\n",
       "      <th>hotel</th>\n",
       "      <th>deposit_type</th>\n",
       "      <th>country</th>\n",
       "      <th>market_segment</th>\n",
       "      <th>distribution_channel</th>\n",
       "      <th>customer_type</th>\n",
       "      <th>is_canceled</th>\n",
       "    </tr>\n",
       "  </thead>\n",
       "  <tbody>\n",
       "    <tr>\n",
       "      <th>2</th>\n",
       "      <td>Resort Hotel</td>\n",
       "      <td>No Deposit</td>\n",
       "      <td>GBR</td>\n",
       "      <td>Direct</td>\n",
       "      <td>Direct</td>\n",
       "      <td>Transient</td>\n",
       "      <td>0</td>\n",
       "    </tr>\n",
       "    <tr>\n",
       "      <th>3</th>\n",
       "      <td>Resort Hotel</td>\n",
       "      <td>No Deposit</td>\n",
       "      <td>GBR</td>\n",
       "      <td>Corporate</td>\n",
       "      <td>Corporate</td>\n",
       "      <td>Transient</td>\n",
       "      <td>0</td>\n",
       "    </tr>\n",
       "    <tr>\n",
       "      <th>4</th>\n",
       "      <td>Resort Hotel</td>\n",
       "      <td>No Deposit</td>\n",
       "      <td>GBR</td>\n",
       "      <td>Online TA</td>\n",
       "      <td>TA/TO</td>\n",
       "      <td>Transient</td>\n",
       "      <td>0</td>\n",
       "    </tr>\n",
       "    <tr>\n",
       "      <th>5</th>\n",
       "      <td>Resort Hotel</td>\n",
       "      <td>No Deposit</td>\n",
       "      <td>GBR</td>\n",
       "      <td>Online TA</td>\n",
       "      <td>TA/TO</td>\n",
       "      <td>Transient</td>\n",
       "      <td>0</td>\n",
       "    </tr>\n",
       "    <tr>\n",
       "      <th>6</th>\n",
       "      <td>Resort Hotel</td>\n",
       "      <td>No Deposit</td>\n",
       "      <td>PRT</td>\n",
       "      <td>Direct</td>\n",
       "      <td>Direct</td>\n",
       "      <td>Transient</td>\n",
       "      <td>0</td>\n",
       "    </tr>\n",
       "  </tbody>\n",
       "</table>\n",
       "</div>\n",
       "      <button class=\"colab-df-convert\" onclick=\"convertToInteractive('df-414e7915-17a3-45c8-b909-3105e765e393')\"\n",
       "              title=\"Convert this dataframe to an interactive table.\"\n",
       "              style=\"display:none;\">\n",
       "        \n",
       "  <svg xmlns=\"http://www.w3.org/2000/svg\" height=\"24px\"viewBox=\"0 0 24 24\"\n",
       "       width=\"24px\">\n",
       "    <path d=\"M0 0h24v24H0V0z\" fill=\"none\"/>\n",
       "    <path d=\"M18.56 5.44l.94 2.06.94-2.06 2.06-.94-2.06-.94-.94-2.06-.94 2.06-2.06.94zm-11 1L8.5 8.5l.94-2.06 2.06-.94-2.06-.94L8.5 2.5l-.94 2.06-2.06.94zm10 10l.94 2.06.94-2.06 2.06-.94-2.06-.94-.94-2.06-.94 2.06-2.06.94z\"/><path d=\"M17.41 7.96l-1.37-1.37c-.4-.4-.92-.59-1.43-.59-.52 0-1.04.2-1.43.59L10.3 9.45l-7.72 7.72c-.78.78-.78 2.05 0 2.83L4 21.41c.39.39.9.59 1.41.59.51 0 1.02-.2 1.41-.59l7.78-7.78 2.81-2.81c.8-.78.8-2.07 0-2.86zM5.41 20L4 18.59l7.72-7.72 1.47 1.35L5.41 20z\"/>\n",
       "  </svg>\n",
       "      </button>\n",
       "      \n",
       "  <style>\n",
       "    .colab-df-container {\n",
       "      display:flex;\n",
       "      flex-wrap:wrap;\n",
       "      gap: 12px;\n",
       "    }\n",
       "\n",
       "    .colab-df-convert {\n",
       "      background-color: #E8F0FE;\n",
       "      border: none;\n",
       "      border-radius: 50%;\n",
       "      cursor: pointer;\n",
       "      display: none;\n",
       "      fill: #1967D2;\n",
       "      height: 32px;\n",
       "      padding: 0 0 0 0;\n",
       "      width: 32px;\n",
       "    }\n",
       "\n",
       "    .colab-df-convert:hover {\n",
       "      background-color: #E2EBFA;\n",
       "      box-shadow: 0px 1px 2px rgba(60, 64, 67, 0.3), 0px 1px 3px 1px rgba(60, 64, 67, 0.15);\n",
       "      fill: #174EA6;\n",
       "    }\n",
       "\n",
       "    [theme=dark] .colab-df-convert {\n",
       "      background-color: #3B4455;\n",
       "      fill: #D2E3FC;\n",
       "    }\n",
       "\n",
       "    [theme=dark] .colab-df-convert:hover {\n",
       "      background-color: #434B5C;\n",
       "      box-shadow: 0px 1px 3px 1px rgba(0, 0, 0, 0.15);\n",
       "      filter: drop-shadow(0px 1px 2px rgba(0, 0, 0, 0.3));\n",
       "      fill: #FFFFFF;\n",
       "    }\n",
       "  </style>\n",
       "\n",
       "      <script>\n",
       "        const buttonEl =\n",
       "          document.querySelector('#df-414e7915-17a3-45c8-b909-3105e765e393 button.colab-df-convert');\n",
       "        buttonEl.style.display =\n",
       "          google.colab.kernel.accessAllowed ? 'block' : 'none';\n",
       "\n",
       "        async function convertToInteractive(key) {\n",
       "          const element = document.querySelector('#df-414e7915-17a3-45c8-b909-3105e765e393');\n",
       "          const dataTable =\n",
       "            await google.colab.kernel.invokeFunction('convertToInteractive',\n",
       "                                                     [key], {});\n",
       "          if (!dataTable) return;\n",
       "\n",
       "          const docLinkHtml = 'Like what you see? Visit the ' +\n",
       "            '<a target=\"_blank\" href=https://colab.research.google.com/notebooks/data_table.ipynb>data table notebook</a>'\n",
       "            + ' to learn more about interactive tables.';\n",
       "          element.innerHTML = '';\n",
       "          dataTable['output_type'] = 'display_data';\n",
       "          await google.colab.output.renderOutput(dataTable, element);\n",
       "          const docLink = document.createElement('div');\n",
       "          docLink.innerHTML = docLinkHtml;\n",
       "          element.appendChild(docLink);\n",
       "        }\n",
       "      </script>\n",
       "    </div>\n",
       "  </div>\n",
       "  "
      ],
      "text/plain": [
       "          hotel deposit_type country market_segment distribution_channel  \\\n",
       "2  Resort Hotel   No Deposit     GBR         Direct               Direct   \n",
       "3  Resort Hotel   No Deposit     GBR      Corporate            Corporate   \n",
       "4  Resort Hotel   No Deposit     GBR      Online TA                TA/TO   \n",
       "5  Resort Hotel   No Deposit     GBR      Online TA                TA/TO   \n",
       "6  Resort Hotel   No Deposit     PRT         Direct               Direct   \n",
       "\n",
       "  customer_type  is_canceled  \n",
       "2     Transient            0  \n",
       "3     Transient            0  \n",
       "4     Transient            0  \n",
       "5     Transient            0  \n",
       "6     Transient            0  "
      ]
     },
     "execution_count": 47,
     "metadata": {},
     "output_type": "execute_result"
    }
   ],
   "source": [
    "df_model.head()"
   ]
  },
  {
   "cell_type": "code",
   "execution_count": 48,
   "metadata": {
    "colab": {
     "base_uri": "https://localhost:8080/"
    },
    "executionInfo": {
     "elapsed": 1547,
     "status": "ok",
     "timestamp": 1656302865205,
     "user": {
      "displayName": "Marine Chevallier",
      "userId": "04126435341853057761"
     },
     "user_tz": 180
    },
    "id": "k5rtFYAmQqe0",
    "outputId": "c6600340-503f-467c-9a06-860b95612b7c",
    "scrolled": true
   },
   "outputs": [
    {
     "name": "stderr",
     "output_type": "stream",
     "text": [
      "/usr/local/lib/python3.7/dist-packages/ipykernel_launcher.py:5: SettingWithCopyWarning:\n",
      "\n",
      "\n",
      "A value is trying to be set on a copy of a slice from a DataFrame.\n",
      "Try using .loc[row_indexer,col_indexer] = value instead\n",
      "\n",
      "See the caveats in the documentation: https://pandas.pydata.org/pandas-docs/stable/user_guide/indexing.html#returning-a-view-versus-a-copy\n",
      "\n"
     ]
    }
   ],
   "source": [
    "# transformando as variáveis categóricas nominais em categóricas numéricas\n",
    "lb = LabelEncoder()\n",
    "var = ['hotel', 'deposit_type', 'country']\n",
    "for item in var:\n",
    "    df_model[item] = lb.fit_transform(df_model[item])\n",
    "# transformando as variáveis categóricas em dummies para o modelo não considerar as categorias como números\n",
    "df_model = pd.get_dummies(df_model, columns=['hotel', 'deposit_type','country', 'market_segment', 'distribution_channel', 'customer_type'])"
   ]
  },
  {
   "cell_type": "markdown",
   "metadata": {
    "id": "Op4A8x4UQqe0"
   },
   "source": [
    "# Modelos de Classificação\n",
    "\n",
    "Separando os dados em treino e teste.\n",
    "\n",
    "Os dados na base de treino, são usados para construir e treinar o modelo, enquanto os dados na base de teste, testam a performance do modelo fora da amostra (com dados novos). Sempre vai existir uma diferença de performance do modelo nas diferentes bases (treino e teste).\n",
    "\n",
    "Foi colocado 20% como tamanho de teste."
   ]
  },
  {
   "cell_type": "code",
   "execution_count": 50,
   "metadata": {
    "colab": {
     "base_uri": "https://localhost:8080/"
    },
    "executionInfo": {
     "elapsed": 824,
     "status": "ok",
     "timestamp": 1656302878498,
     "user": {
      "displayName": "Marine Chevallier",
      "userId": "04126435341853057761"
     },
     "user_tz": 180
    },
    "id": "y_pqVEFZQqe0",
    "outputId": "da2ff6b0-04f6-4ffd-e22b-22a476c2b279"
   },
   "outputs": [
    {
     "data": {
      "text/plain": [
       "((94852, 199), (94852,), (23713, 199), (23713,))"
      ]
     },
     "execution_count": 50,
     "metadata": {},
     "output_type": "execute_result"
    }
   ],
   "source": [
    "X = df_model.drop(['is_canceled'], axis=1)\n",
    "y = df_model['is_canceled']\n",
    "X_train, X_test, y_train, y_test = train_test_split(X, y, test_size=0.20)\n",
    "X_train.shape, y_train.shape, X_test.shape, y_test.shape"
   ]
  },
  {
   "cell_type": "markdown",
   "metadata": {
    "id": "yWXVIsm11LEw"
   },
   "source": [
    "### Padronizando e normalizando os dados\n",
    "\n",
    "Faz-se necessário padronizar e normalizar os dados para que as variáveis tenham a mesma ordem de grandeza."
   ]
  },
  {
   "cell_type": "code",
   "execution_count": 52,
   "metadata": {
    "executionInfo": {
     "elapsed": 1120,
     "status": "ok",
     "timestamp": 1656302892420,
     "user": {
      "displayName": "Marine Chevallier",
      "userId": "04126435341853057761"
     },
     "user_tz": 180
    },
    "id": "SE5DbUCBQqe0"
   },
   "outputs": [],
   "source": [
    "# Padronizando os dados\n",
    "std_scaler = StandardScaler()\n",
    "std_scaler.fit(X_train)\n",
    "X_train_std = std_scaler.transform(X_train)\n",
    "X_test_std = std_scaler.transform(X_test)\n",
    "\n",
    "# Normalizando os dados\n",
    "mm_scaler = MinMaxScaler()\n",
    "mm_scaler.fit(X_train)\n",
    "X_train_mm = mm_scaler.transform(X_train)\n",
    "X_test_mm = mm_scaler.transform(X_test)"
   ]
  },
  {
   "cell_type": "markdown",
   "metadata": {
    "id": "xsuxDasZ0CkJ"
   },
   "source": [
    "## Regressão Logística\n",
    "\n",
    "Esse é um dos algoritmos mais utilizados no aprendizado de máquina supervisionado para resolver problemas de classificação. Ela prevê a variável dependente categórica usando um determinado conjunto de variáveis independentes."
   ]
  },
  {
   "cell_type": "code",
   "execution_count": 54,
   "metadata": {
    "colab": {
     "base_uri": "https://localhost:8080/"
    },
    "executionInfo": {
     "elapsed": 19317,
     "status": "ok",
     "timestamp": 1656303022177,
     "user": {
      "displayName": "Marine Chevallier",
      "userId": "04126435341853057761"
     },
     "user_tz": 180
    },
    "id": "nsKfU_940FrS",
    "outputId": "17523942-ba08-4747-8b53-b4859363f667"
   },
   "outputs": [
    {
     "name": "stdout",
     "output_type": "stream",
     "text": [
      "Accuracy Score of Logistic Regression is : 0.7448656854889723\n",
      "Confusion Matrix : [[13467  1376]\n",
      " [ 4674  4196]]\n",
      "Classification Report :               precision    recall  f1-score   support\n",
      "\n",
      "           0       0.74      0.91      0.82     14843\n",
      "           1       0.75      0.47      0.58      8870\n",
      "\n",
      "    accuracy                           0.74     23713\n",
      "   macro avg       0.75      0.69      0.70     23713\n",
      "weighted avg       0.75      0.74      0.73     23713\n",
      "\n"
     ]
    }
   ],
   "source": [
    "logreg = LogisticRegression(max_iter=500)\n",
    "logreg.fit(X_train_mm, y_train)\n",
    "\n",
    "y_pred_logreg = logreg.predict(X_test_mm)\n",
    "\n",
    "acc_logreg = accuracy_score(y_test, y_pred_logreg)\n",
    "conf = confusion_matrix(y_test, y_pred_logreg)\n",
    "clf_report = classification_report(y_test, y_pred_logreg)\n",
    "\n",
    "print(f\"Accuracy Score of Logistic Regression is : {acc_logreg}\")\n",
    "print(f\"Confusion Matrix : {conf}\")\n",
    "print(f\"Classification Report : {clf_report}\")"
   ]
  },
  {
   "cell_type": "markdown",
   "metadata": {
    "id": "b7CZesNq_Uz9"
   },
   "source": [
    "## K-Nearest Neighbor"
   ]
  },
  {
   "cell_type": "code",
   "execution_count": 55,
   "metadata": {
    "colab": {
     "base_uri": "https://localhost:8080/"
    },
    "executionInfo": {
     "elapsed": 68709,
     "status": "ok",
     "timestamp": 1656303090874,
     "user": {
      "displayName": "Marine Chevallier",
      "userId": "04126435341853057761"
     },
     "user_tz": 180
    },
    "id": "O57UkSkU_7Ys",
    "outputId": "15dbef19-5a86-47d9-c55a-3bb53746fb4c"
   },
   "outputs": [
    {
     "name": "stdout",
     "output_type": "stream",
     "text": [
      "Accuracy Score of KNN is : 0.7330156454265593\n",
      "Confusion Matrix : n[[12279  2564]\n",
      " [ 3767  5103]]\n",
      "Classification Report : n              precision    recall  f1-score   support\n",
      "\n",
      "           0       0.77      0.83      0.80     14843\n",
      "           1       0.67      0.58      0.62      8870\n",
      "\n",
      "    accuracy                           0.73     23713\n",
      "   macro avg       0.72      0.70      0.71     23713\n",
      "weighted avg       0.73      0.73      0.73     23713\n",
      "\n"
     ]
    }
   ],
   "source": [
    "knn = KNeighborsClassifier()\n",
    "knn.fit(X_train, y_train)\n",
    "\n",
    "y_pred_knn = knn.predict(X_test)\n",
    "\n",
    "acc_knn = accuracy_score(y_test, y_pred_knn)\n",
    "conf = confusion_matrix(y_test, y_pred_knn)\n",
    "clf_report = classification_report(y_test, y_pred_knn)\n",
    "\n",
    "print(f\"Accuracy Score of KNN is : {acc_knn}\")\n",
    "print(f\"Confusion Matrix : n{conf}\")\n",
    "print(f\"Classification Report : n{clf_report}\")"
   ]
  },
  {
   "cell_type": "markdown",
   "metadata": {
    "id": "9kSjg1vyBz28"
   },
   "source": [
    "## Árvore de Decisão\n"
   ]
  },
  {
   "cell_type": "code",
   "execution_count": 56,
   "metadata": {
    "colab": {
     "base_uri": "https://localhost:8080/"
    },
    "executionInfo": {
     "elapsed": 2123,
     "status": "ok",
     "timestamp": 1656303092994,
     "user": {
      "displayName": "Marine Chevallier",
      "userId": "04126435341853057761"
     },
     "user_tz": 180
    },
    "id": "W1lIRknCCC2c",
    "outputId": "867c16fe-c3ea-4446-fc98-e012f572ba86"
   },
   "outputs": [
    {
     "name": "stdout",
     "output_type": "stream",
     "text": [
      "Accuracy Score of Decision Tree is : 0.7667945852485978\n",
      "Confusion Matrix : n[[13168  1675]\n",
      " [ 3855  5015]]\n",
      "Classification Report : n              precision    recall  f1-score   support\n",
      "\n",
      "           0       0.77      0.89      0.83     14843\n",
      "           1       0.75      0.57      0.64      8870\n",
      "\n",
      "    accuracy                           0.77     23713\n",
      "   macro avg       0.76      0.73      0.74     23713\n",
      "weighted avg       0.76      0.77      0.76     23713\n",
      "\n"
     ]
    }
   ],
   "source": [
    "dtc = DecisionTreeClassifier()\n",
    "dtc.fit(X_train, y_train)\n",
    "\n",
    "y_pred_dtc = dtc.predict(X_test)\n",
    "\n",
    "acc_dtc = accuracy_score(y_test, y_pred_dtc)\n",
    "conf = confusion_matrix(y_test, y_pred_dtc)\n",
    "clf_report = classification_report(y_test, y_pred_dtc)\n",
    "\n",
    "print(f\"Accuracy Score of Decision Tree is : {acc_dtc}\")\n",
    "print(f\"Confusion Matrix : n{conf}\")\n",
    "print(f\"Classification Report : n{clf_report}\")"
   ]
  },
  {
   "cell_type": "markdown",
   "metadata": {
    "id": "xIaU7ggjG-ar"
   },
   "source": [
    "## Random Forest\n"
   ]
  },
  {
   "cell_type": "code",
   "execution_count": 58,
   "metadata": {
    "colab": {
     "base_uri": "https://localhost:8080/"
    },
    "executionInfo": {
     "elapsed": 28690,
     "status": "ok",
     "timestamp": 1656303123239,
     "user": {
      "displayName": "Marine Chevallier",
      "userId": "04126435341853057761"
     },
     "user_tz": 180
    },
    "id": "FCFxAYiQG1bR",
    "outputId": "eb888166-269c-47f4-c6c2-ee55e8b22aea"
   },
   "outputs": [
    {
     "name": "stdout",
     "output_type": "stream",
     "text": [
      "Accuracy Score of Random Forest is : 0.7669210981318264\n",
      "Confusion Matrix : n[[13153  1690]\n",
      " [ 3837  5033]]\n",
      "Classification Report : n              precision    recall  f1-score   support\n",
      "\n",
      "           0       0.77      0.89      0.83     14843\n",
      "           1       0.75      0.57      0.65      8870\n",
      "\n",
      "    accuracy                           0.77     23713\n",
      "   macro avg       0.76      0.73      0.74     23713\n",
      "weighted avg       0.76      0.77      0.76     23713\n",
      "\n"
     ]
    }
   ],
   "source": [
    "rd_clf = RandomForestClassifier()\n",
    "rd_clf.fit(X_train, y_train)\n",
    "\n",
    "y_pred_rd_clf = rd_clf.predict(X_test)\n",
    "\n",
    "acc_rd_clf = accuracy_score(y_test, y_pred_rd_clf)\n",
    "conf = confusion_matrix(y_test, y_pred_rd_clf)\n",
    "clf_report = classification_report(y_test, y_pred_rd_clf)\n",
    "\n",
    "print(f\"Accuracy Score of Random Forest is : {acc_rd_clf}\")\n",
    "print(f\"Confusion Matrix : n{conf}\")\n",
    "print(f\"Classification Report : n{clf_report}\")"
   ]
  },
  {
   "cell_type": "markdown",
   "metadata": {
    "id": "E2Qc8Zu8HwHf"
   },
   "source": [
    "## SVC - Support Vector Classification\n"
   ]
  },
  {
   "cell_type": "code",
   "execution_count": 59,
   "metadata": {
    "colab": {
     "base_uri": "https://localhost:8080/"
    },
    "executionInfo": {
     "elapsed": 22626,
     "status": "ok",
     "timestamp": 1656303145858,
     "user": {
      "displayName": "Marine Chevallier",
      "userId": "04126435341853057761"
     },
     "user_tz": 180
    },
    "id": "5R_F0uCzQqe1",
    "outputId": "384f45cb-4ab6-4237-a1ae-0b4ec1ac21e1"
   },
   "outputs": [
    {
     "name": "stdout",
     "output_type": "stream",
     "text": [
      "Average cross validation score: 0.748\n",
      "Test accuracy: 0.744\n",
      "F1 score: 0.577\n",
      "[[13510  1333]\n",
      " [ 4729  4141]]\n"
     ]
    }
   ],
   "source": [
    "#Linear SVC\n",
    "svc = LinearSVC().fit(X_train_mm, y_train)\n",
    "scores = cross_val_score(svc, X_train_mm, y_train, cv=5)\n",
    "svc_pred = svc.predict(X_test_mm)\n",
    "print(\"Average cross validation score: {:.3f}\".format(scores.mean()))\n",
    "print(\"Test accuracy: {:.3f}\".format(svc.score(X_test_mm, y_test)))\n",
    "print(\"F1 score: {:.3f}\".format(f1_score(y_test, svc_pred)))\n",
    "print(confusion_matrix(y_test, svc_pred))"
   ]
  },
  {
   "cell_type": "markdown",
   "metadata": {
    "id": "oZrIf4D7ITJd"
   },
   "source": [
    "## SGD Classifier - Stochastic Gradient Descent learning\n",
    "\n"
   ]
  },
  {
   "cell_type": "code",
   "execution_count": 60,
   "metadata": {
    "colab": {
     "base_uri": "https://localhost:8080/"
    },
    "executionInfo": {
     "elapsed": 4828,
     "status": "ok",
     "timestamp": 1656303150683,
     "user": {
      "displayName": "Marine Chevallier",
      "userId": "04126435341853057761"
     },
     "user_tz": 180
    },
    "id": "nnMzXFlLQqe1",
    "outputId": "c30818b5-d921-462c-f754-81d34c390151"
   },
   "outputs": [
    {
     "name": "stdout",
     "output_type": "stream",
     "text": [
      "Average cross validation score: 0.751\n",
      "Test accuracy: 0.749\n",
      "F1 score: 0.502\n",
      "[[14757    86]\n",
      " [ 5867  3003]]\n"
     ]
    }
   ],
   "source": [
    "#SGD Classifier\n",
    "sgd = SGDClassifier(alpha=0.1).fit(X_train_std, y_train)\n",
    "scores = cross_val_score(sgd, X_train_std, y_train, cv=5)\n",
    "sgd_pred = sgd.predict(X_test_std)\n",
    "print(\"Average cross validation score: {:.3f}\".format(scores.mean()))\n",
    "print(\"Test accuracy: {:.3f}\".format(sgd.score(X_test_std, y_test)))\n",
    "print(\"F1 score: {:.3f}\".format(f1_score(y_test, sgd_pred)))\n",
    "print(confusion_matrix(y_test, sgd_pred))"
   ]
  },
  {
   "cell_type": "markdown",
   "metadata": {
    "id": "WbbkGi-JJcez"
   },
   "source": [
    "## Ridge Classifier\n",
    "\n"
   ]
  },
  {
   "cell_type": "code",
   "execution_count": 61,
   "metadata": {
    "colab": {
     "base_uri": "https://localhost:8080/"
    },
    "executionInfo": {
     "elapsed": 9294,
     "status": "ok",
     "timestamp": 1656303159967,
     "user": {
      "displayName": "Marine Chevallier",
      "userId": "04126435341853057761"
     },
     "user_tz": 180
    },
    "id": "BTUZPGjGQqe1",
    "outputId": "3f24c646-c435-4cf4-f3f0-a80bbf081a6b"
   },
   "outputs": [
    {
     "name": "stderr",
     "output_type": "stream",
     "text": [
      "/usr/local/lib/python3.7/dist-packages/sklearn/linear_model/_base.py:145: FutureWarning:\n",
      "\n",
      "'normalize' was deprecated in version 1.0 and will be removed in 1.2.\n",
      "If you wish to scale the data, use Pipeline with a StandardScaler in a preprocessing stage. To reproduce the previous behavior:\n",
      "\n",
      "from sklearn.pipeline import make_pipeline\n",
      "\n",
      "model = make_pipeline(StandardScaler(with_mean=False), RidgeClassifier())\n",
      "\n",
      "If you wish to pass a sample_weight parameter, you need to pass it as a fit parameter to each step of the pipeline as follows:\n",
      "\n",
      "kwargs = {s[0] + '__sample_weight': sample_weight for s in model.steps}\n",
      "model.fit(X, y, **kwargs)\n",
      "\n",
      "Set parameter alpha to: original_alpha * n_samples. \n",
      "\n",
      "/usr/local/lib/python3.7/dist-packages/sklearn/linear_model/_base.py:145: FutureWarning:\n",
      "\n",
      "'normalize' was deprecated in version 1.0 and will be removed in 1.2.\n",
      "If you wish to scale the data, use Pipeline with a StandardScaler in a preprocessing stage. To reproduce the previous behavior:\n",
      "\n",
      "from sklearn.pipeline import make_pipeline\n",
      "\n",
      "model = make_pipeline(StandardScaler(with_mean=False), RidgeClassifier())\n",
      "\n",
      "If you wish to pass a sample_weight parameter, you need to pass it as a fit parameter to each step of the pipeline as follows:\n",
      "\n",
      "kwargs = {s[0] + '__sample_weight': sample_weight for s in model.steps}\n",
      "model.fit(X, y, **kwargs)\n",
      "\n",
      "Set parameter alpha to: original_alpha * n_samples. \n",
      "\n",
      "/usr/local/lib/python3.7/dist-packages/sklearn/linear_model/_base.py:145: FutureWarning:\n",
      "\n",
      "'normalize' was deprecated in version 1.0 and will be removed in 1.2.\n",
      "If you wish to scale the data, use Pipeline with a StandardScaler in a preprocessing stage. To reproduce the previous behavior:\n",
      "\n",
      "from sklearn.pipeline import make_pipeline\n",
      "\n",
      "model = make_pipeline(StandardScaler(with_mean=False), RidgeClassifier())\n",
      "\n",
      "If you wish to pass a sample_weight parameter, you need to pass it as a fit parameter to each step of the pipeline as follows:\n",
      "\n",
      "kwargs = {s[0] + '__sample_weight': sample_weight for s in model.steps}\n",
      "model.fit(X, y, **kwargs)\n",
      "\n",
      "Set parameter alpha to: original_alpha * n_samples. \n",
      "\n",
      "/usr/local/lib/python3.7/dist-packages/sklearn/linear_model/_base.py:145: FutureWarning:\n",
      "\n",
      "'normalize' was deprecated in version 1.0 and will be removed in 1.2.\n",
      "If you wish to scale the data, use Pipeline with a StandardScaler in a preprocessing stage. To reproduce the previous behavior:\n",
      "\n",
      "from sklearn.pipeline import make_pipeline\n",
      "\n",
      "model = make_pipeline(StandardScaler(with_mean=False), RidgeClassifier())\n",
      "\n",
      "If you wish to pass a sample_weight parameter, you need to pass it as a fit parameter to each step of the pipeline as follows:\n",
      "\n",
      "kwargs = {s[0] + '__sample_weight': sample_weight for s in model.steps}\n",
      "model.fit(X, y, **kwargs)\n",
      "\n",
      "Set parameter alpha to: original_alpha * n_samples. \n",
      "\n",
      "/usr/local/lib/python3.7/dist-packages/sklearn/linear_model/_base.py:145: FutureWarning:\n",
      "\n",
      "'normalize' was deprecated in version 1.0 and will be removed in 1.2.\n",
      "If you wish to scale the data, use Pipeline with a StandardScaler in a preprocessing stage. To reproduce the previous behavior:\n",
      "\n",
      "from sklearn.pipeline import make_pipeline\n",
      "\n",
      "model = make_pipeline(StandardScaler(with_mean=False), RidgeClassifier())\n",
      "\n",
      "If you wish to pass a sample_weight parameter, you need to pass it as a fit parameter to each step of the pipeline as follows:\n",
      "\n",
      "kwargs = {s[0] + '__sample_weight': sample_weight for s in model.steps}\n",
      "model.fit(X, y, **kwargs)\n",
      "\n",
      "Set parameter alpha to: original_alpha * n_samples. \n",
      "\n",
      "/usr/local/lib/python3.7/dist-packages/sklearn/linear_model/_base.py:145: FutureWarning:\n",
      "\n",
      "'normalize' was deprecated in version 1.0 and will be removed in 1.2.\n",
      "If you wish to scale the data, use Pipeline with a StandardScaler in a preprocessing stage. To reproduce the previous behavior:\n",
      "\n",
      "from sklearn.pipeline import make_pipeline\n",
      "\n",
      "model = make_pipeline(StandardScaler(with_mean=False), RidgeClassifier())\n",
      "\n",
      "If you wish to pass a sample_weight parameter, you need to pass it as a fit parameter to each step of the pipeline as follows:\n",
      "\n",
      "kwargs = {s[0] + '__sample_weight': sample_weight for s in model.steps}\n",
      "model.fit(X, y, **kwargs)\n",
      "\n",
      "Set parameter alpha to: original_alpha * n_samples. \n",
      "\n"
     ]
    },
    {
     "name": "stdout",
     "output_type": "stream",
     "text": [
      "Normalized data:\n",
      "Average cross validation score: 0.752\n",
      "Test accuracy: 0.750\n",
      "F1 score: 0.504\n",
      "[[14792    51]\n",
      " [ 5866  3004]]\n",
      "Standard scaled data:\n",
      "Average cross validation score: 0.748\n",
      "Test accuracy: 0.743\n",
      "F1 score: 0.575\n",
      "[[13513  1330]\n",
      " [ 4753  4117]]\n"
     ]
    }
   ],
   "source": [
    "#Ridge Classifier\n",
    "rc = RidgeClassifier(alpha=1, normalize=True)\n",
    "rc.fit(X_train, y_train)\n",
    "scores = cross_val_score(rc, X_train, y_train, cv=5)\n",
    "rc_pred = rc.predict(X_test)\n",
    "print(\"Normalized data:\")\n",
    "print(\"Average cross validation score: {:.3f}\".format(scores.mean()))\n",
    "print(\"Test accuracy: {:.3f}\".format(rc.score(X_test, y_test)))\n",
    "print(\"F1 score: {:.3f}\".format(f1_score(y_test, rc_pred)))\n",
    "print(confusion_matrix(y_test, rc_pred))\n",
    "\n",
    "rc = RidgeClassifier(alpha=1)\n",
    "rc.fit(X_train_std, y_train)\n",
    "scores = cross_val_score(rc, X_train_std, y_train, cv=5)\n",
    "rc_pred = rc.predict(X_test_std)\n",
    "print(\"Standard scaled data:\")\n",
    "print(\"Average cross validation score: {:.3f}\".format(scores.mean()))\n",
    "print(\"Test accuracy: {:.3f}\".format(rc.score(X_test_std, y_test)))\n",
    "print(\"F1 score: {:.3f}\".format(f1_score(y_test, rc_pred)))\n",
    "print(confusion_matrix(y_test, rc_pred))"
   ]
  },
  {
   "cell_type": "markdown",
   "metadata": {
    "id": "-GeS-pELKS3j"
   },
   "source": [
    "# Conclusões\n",
    "\n",
    "Os dados fornecidos por essa base de dados são de classificação supervisionada. Contém informações de reserva para um Hotel e um Fancy Hotel (chique), como e quando a reserva foi feita, número de hóspedes, quantas vagas de estacionamento foram requeridas, dentre outras informações.\n",
    "Os algoritmos de regressão logística como KNN, Decision Tree, Random Forest, SVC, SGD e Ridge Classifier são usados para lidar com esse modelo de classificação supervisionado. Dentre esses algoritmos, o que teve o melhor desempenho em relação à precisão foi a Árvore de Decisão e Random Forest.\n",
    "\n",
    "Como essa base é de cancelamentos (eventos) e não temporal/sazonal e queremos prever o cancelamento, então podemos separar a base de treino e teste aleatoriamente como foi feito nesse desafio, pois não queremos fazer uma previsão temporal e sim eventual. \n",
    "Se quiséssemos fazer uma classificação no tempo/sazonal, então a separação também seria sazonal, pegando os últimos dados (ano de 2017 por exemplo) como teste/validação."
   ]
  },
  {
   "cell_type": "code",
   "execution_count": null,
   "metadata": {
    "id": "lpAU0OKDWNFA"
   },
   "outputs": [],
   "source": []
  }
 ],
 "metadata": {
  "colab": {
   "collapsed_sections": [],
   "name": "previsao_cancelamentos_hoteis.ipynb",
   "provenance": []
  },
  "kernelspec": {
   "display_name": "Python 3",
   "language": "python",
   "name": "python3"
  },
  "language_info": {
   "codemirror_mode": {
    "name": "ipython",
    "version": 3
   },
   "file_extension": ".py",
   "mimetype": "text/x-python",
   "name": "python",
   "nbconvert_exporter": "python",
   "pygments_lexer": "ipython3",
   "version": "3.8.5"
  }
 },
 "nbformat": 4,
 "nbformat_minor": 1
}
